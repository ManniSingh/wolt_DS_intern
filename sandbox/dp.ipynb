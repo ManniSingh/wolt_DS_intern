{
 "cells": [
  {
   "cell_type": "code",
   "execution_count": 1,
   "metadata": {},
   "outputs": [],
   "source": [
    "import pandas as pd\n",
    "import numpy as np\n",
    "import utils\n",
    "import matplotlib.pyplot as plt\n",
    "from tqdm import tqdm"
   ]
  },
  {
   "cell_type": "code",
   "execution_count": 2,
   "metadata": {},
   "outputs": [],
   "source": [
    "orders_data = \"../orders_autumn_2020.csv\""
   ]
  },
  {
   "cell_type": "code",
   "execution_count": 3,
   "metadata": {},
   "outputs": [
    {
     "name": "stdout",
     "output_type": "stream",
     "text": [
      "Total rows: 18706\n",
      "rows after cleanup: 18429\n"
     ]
    },
    {
     "data": {
      "text/html": [
       "<div>\n",
       "<style scoped>\n",
       "    .dataframe tbody tr th:only-of-type {\n",
       "        vertical-align: middle;\n",
       "    }\n",
       "\n",
       "    .dataframe tbody tr th {\n",
       "        vertical-align: top;\n",
       "    }\n",
       "\n",
       "    .dataframe thead th {\n",
       "        text-align: right;\n",
       "    }\n",
       "</style>\n",
       "<table border=\"1\" class=\"dataframe\">\n",
       "  <thead>\n",
       "    <tr style=\"text-align: right;\">\n",
       "      <th></th>\n",
       "      <th>TIMESTAMP</th>\n",
       "      <th>ACTUAL_DELIVERY_MINUTES - ESTIMATED_DELIVERY_MINUTES</th>\n",
       "      <th>ITEM_COUNT</th>\n",
       "      <th>USER_LAT</th>\n",
       "      <th>USER_LONG</th>\n",
       "      <th>VENUE_LAT</th>\n",
       "      <th>VENUE_LONG</th>\n",
       "      <th>ESTIMATED_DELIVERY_MINUTES</th>\n",
       "      <th>ACTUAL_DELIVERY_MINUTES</th>\n",
       "      <th>CLOUD_COVERAGE</th>\n",
       "      <th>TEMPERATURE</th>\n",
       "      <th>WIND_SPEED</th>\n",
       "      <th>PRECIPITATION</th>\n",
       "    </tr>\n",
       "  </thead>\n",
       "  <tbody>\n",
       "    <tr>\n",
       "      <th>0</th>\n",
       "      <td>2020-08-01 06:07:00.000</td>\n",
       "      <td>-19</td>\n",
       "      <td>1</td>\n",
       "      <td>60.158</td>\n",
       "      <td>24.946</td>\n",
       "      <td>60.160</td>\n",
       "      <td>24.946</td>\n",
       "      <td>29</td>\n",
       "      <td>10</td>\n",
       "      <td>0.0</td>\n",
       "      <td>15.0</td>\n",
       "      <td>3.53644</td>\n",
       "      <td>0.0</td>\n",
       "    </tr>\n",
       "    <tr>\n",
       "      <th>1</th>\n",
       "      <td>2020-08-01 06:17:00.000</td>\n",
       "      <td>-7</td>\n",
       "      <td>8</td>\n",
       "      <td>60.163</td>\n",
       "      <td>24.927</td>\n",
       "      <td>60.153</td>\n",
       "      <td>24.910</td>\n",
       "      <td>39</td>\n",
       "      <td>32</td>\n",
       "      <td>0.0</td>\n",
       "      <td>15.0</td>\n",
       "      <td>3.53644</td>\n",
       "      <td>0.0</td>\n",
       "    </tr>\n",
       "    <tr>\n",
       "      <th>2</th>\n",
       "      <td>2020-08-01 06:54:00.000</td>\n",
       "      <td>-17</td>\n",
       "      <td>4</td>\n",
       "      <td>60.161</td>\n",
       "      <td>24.937</td>\n",
       "      <td>60.162</td>\n",
       "      <td>24.939</td>\n",
       "      <td>23</td>\n",
       "      <td>6</td>\n",
       "      <td>0.0</td>\n",
       "      <td>15.0</td>\n",
       "      <td>3.53644</td>\n",
       "      <td>0.0</td>\n",
       "    </tr>\n",
       "    <tr>\n",
       "      <th>3</th>\n",
       "      <td>2020-08-01 07:09:00.000</td>\n",
       "      <td>-2</td>\n",
       "      <td>3</td>\n",
       "      <td>60.185</td>\n",
       "      <td>24.954</td>\n",
       "      <td>60.190</td>\n",
       "      <td>24.911</td>\n",
       "      <td>28</td>\n",
       "      <td>26</td>\n",
       "      <td>0.0</td>\n",
       "      <td>16.7</td>\n",
       "      <td>3.52267</td>\n",
       "      <td>0.0</td>\n",
       "    </tr>\n",
       "    <tr>\n",
       "      <th>4</th>\n",
       "      <td>2020-08-01 07:10:00.000</td>\n",
       "      <td>-1</td>\n",
       "      <td>2</td>\n",
       "      <td>60.182</td>\n",
       "      <td>24.955</td>\n",
       "      <td>60.178</td>\n",
       "      <td>24.949</td>\n",
       "      <td>27</td>\n",
       "      <td>26</td>\n",
       "      <td>0.0</td>\n",
       "      <td>16.7</td>\n",
       "      <td>3.52267</td>\n",
       "      <td>0.0</td>\n",
       "    </tr>\n",
       "  </tbody>\n",
       "</table>\n",
       "</div>"
      ],
      "text/plain": [
       "                 TIMESTAMP  \\\n",
       "0  2020-08-01 06:07:00.000   \n",
       "1  2020-08-01 06:17:00.000   \n",
       "2  2020-08-01 06:54:00.000   \n",
       "3  2020-08-01 07:09:00.000   \n",
       "4  2020-08-01 07:10:00.000   \n",
       "\n",
       "   ACTUAL_DELIVERY_MINUTES - ESTIMATED_DELIVERY_MINUTES  ITEM_COUNT  USER_LAT  \\\n",
       "0                                                -19              1    60.158   \n",
       "1                                                 -7              8    60.163   \n",
       "2                                                -17              4    60.161   \n",
       "3                                                 -2              3    60.185   \n",
       "4                                                 -1              2    60.182   \n",
       "\n",
       "   USER_LONG  VENUE_LAT  VENUE_LONG  ESTIMATED_DELIVERY_MINUTES  \\\n",
       "0     24.946     60.160      24.946                          29   \n",
       "1     24.927     60.153      24.910                          39   \n",
       "2     24.937     60.162      24.939                          23   \n",
       "3     24.954     60.190      24.911                          28   \n",
       "4     24.955     60.178      24.949                          27   \n",
       "\n",
       "   ACTUAL_DELIVERY_MINUTES  CLOUD_COVERAGE  TEMPERATURE  WIND_SPEED  \\\n",
       "0                       10             0.0         15.0     3.53644   \n",
       "1                       32             0.0         15.0     3.53644   \n",
       "2                        6             0.0         15.0     3.53644   \n",
       "3                       26             0.0         16.7     3.52267   \n",
       "4                       26             0.0         16.7     3.52267   \n",
       "\n",
       "   PRECIPITATION  \n",
       "0            0.0  \n",
       "1            0.0  \n",
       "2            0.0  \n",
       "3            0.0  \n",
       "4            0.0  "
      ]
     },
     "execution_count": 3,
     "metadata": {},
     "output_type": "execute_result"
    }
   ],
   "source": [
    "df = pd.read_csv(orders_data)\n",
    "print('Total rows: {}'.format(len(df)))\n",
    "df = df.dropna() #remove invalid rows.\n",
    "print('rows after cleanup: {}'.format(len(df)))\n",
    "df.head()"
   ]
  },
  {
   "cell_type": "code",
   "execution_count": 4,
   "metadata": {},
   "outputs": [],
   "source": [
    "df['HOUR_OF_DAY'] = pd.to_datetime(df['TIMESTAMP']).dt.hour + 1\n",
    "df['WEEKDAY'] = pd.to_datetime(df['TIMESTAMP']).dt.dayofweek + 1\n",
    "df.drop(['TIMESTAMP','ACTUAL_DELIVERY_MINUTES - ESTIMATED_DELIVERY_MINUTES'], axis=1, inplace=True)"
   ]
  },
  {
   "cell_type": "code",
   "execution_count": 5,
   "metadata": {},
   "outputs": [
    {
     "data": {
      "text/html": [
       "<div>\n",
       "<style scoped>\n",
       "    .dataframe tbody tr th:only-of-type {\n",
       "        vertical-align: middle;\n",
       "    }\n",
       "\n",
       "    .dataframe tbody tr th {\n",
       "        vertical-align: top;\n",
       "    }\n",
       "\n",
       "    .dataframe thead th {\n",
       "        text-align: right;\n",
       "    }\n",
       "</style>\n",
       "<table border=\"1\" class=\"dataframe\">\n",
       "  <thead>\n",
       "    <tr style=\"text-align: right;\">\n",
       "      <th></th>\n",
       "      <th>ITEM_COUNT</th>\n",
       "      <th>USER_LAT</th>\n",
       "      <th>USER_LONG</th>\n",
       "      <th>VENUE_LAT</th>\n",
       "      <th>VENUE_LONG</th>\n",
       "      <th>ESTIMATED_DELIVERY_MINUTES</th>\n",
       "      <th>ACTUAL_DELIVERY_MINUTES</th>\n",
       "      <th>CLOUD_COVERAGE</th>\n",
       "      <th>TEMPERATURE</th>\n",
       "      <th>WIND_SPEED</th>\n",
       "      <th>PRECIPITATION</th>\n",
       "      <th>HOUR_OF_DAY</th>\n",
       "      <th>WEEKDAY</th>\n",
       "    </tr>\n",
       "  </thead>\n",
       "  <tbody>\n",
       "    <tr>\n",
       "      <th>0</th>\n",
       "      <td>1</td>\n",
       "      <td>60.158</td>\n",
       "      <td>24.946</td>\n",
       "      <td>60.160</td>\n",
       "      <td>24.946</td>\n",
       "      <td>29</td>\n",
       "      <td>10</td>\n",
       "      <td>0.0</td>\n",
       "      <td>15.0</td>\n",
       "      <td>3.53644</td>\n",
       "      <td>0.0</td>\n",
       "      <td>7</td>\n",
       "      <td>6</td>\n",
       "    </tr>\n",
       "    <tr>\n",
       "      <th>1</th>\n",
       "      <td>8</td>\n",
       "      <td>60.163</td>\n",
       "      <td>24.927</td>\n",
       "      <td>60.153</td>\n",
       "      <td>24.910</td>\n",
       "      <td>39</td>\n",
       "      <td>32</td>\n",
       "      <td>0.0</td>\n",
       "      <td>15.0</td>\n",
       "      <td>3.53644</td>\n",
       "      <td>0.0</td>\n",
       "      <td>7</td>\n",
       "      <td>6</td>\n",
       "    </tr>\n",
       "    <tr>\n",
       "      <th>2</th>\n",
       "      <td>4</td>\n",
       "      <td>60.161</td>\n",
       "      <td>24.937</td>\n",
       "      <td>60.162</td>\n",
       "      <td>24.939</td>\n",
       "      <td>23</td>\n",
       "      <td>6</td>\n",
       "      <td>0.0</td>\n",
       "      <td>15.0</td>\n",
       "      <td>3.53644</td>\n",
       "      <td>0.0</td>\n",
       "      <td>7</td>\n",
       "      <td>6</td>\n",
       "    </tr>\n",
       "    <tr>\n",
       "      <th>3</th>\n",
       "      <td>3</td>\n",
       "      <td>60.185</td>\n",
       "      <td>24.954</td>\n",
       "      <td>60.190</td>\n",
       "      <td>24.911</td>\n",
       "      <td>28</td>\n",
       "      <td>26</td>\n",
       "      <td>0.0</td>\n",
       "      <td>16.7</td>\n",
       "      <td>3.52267</td>\n",
       "      <td>0.0</td>\n",
       "      <td>8</td>\n",
       "      <td>6</td>\n",
       "    </tr>\n",
       "    <tr>\n",
       "      <th>4</th>\n",
       "      <td>2</td>\n",
       "      <td>60.182</td>\n",
       "      <td>24.955</td>\n",
       "      <td>60.178</td>\n",
       "      <td>24.949</td>\n",
       "      <td>27</td>\n",
       "      <td>26</td>\n",
       "      <td>0.0</td>\n",
       "      <td>16.7</td>\n",
       "      <td>3.52267</td>\n",
       "      <td>0.0</td>\n",
       "      <td>8</td>\n",
       "      <td>6</td>\n",
       "    </tr>\n",
       "  </tbody>\n",
       "</table>\n",
       "</div>"
      ],
      "text/plain": [
       "   ITEM_COUNT  USER_LAT  USER_LONG  VENUE_LAT  VENUE_LONG  \\\n",
       "0           1    60.158     24.946     60.160      24.946   \n",
       "1           8    60.163     24.927     60.153      24.910   \n",
       "2           4    60.161     24.937     60.162      24.939   \n",
       "3           3    60.185     24.954     60.190      24.911   \n",
       "4           2    60.182     24.955     60.178      24.949   \n",
       "\n",
       "   ESTIMATED_DELIVERY_MINUTES  ACTUAL_DELIVERY_MINUTES  CLOUD_COVERAGE  \\\n",
       "0                          29                       10             0.0   \n",
       "1                          39                       32             0.0   \n",
       "2                          23                        6             0.0   \n",
       "3                          28                       26             0.0   \n",
       "4                          27                       26             0.0   \n",
       "\n",
       "   TEMPERATURE  WIND_SPEED  PRECIPITATION  HOUR_OF_DAY  WEEKDAY  \n",
       "0         15.0     3.53644            0.0            7        6  \n",
       "1         15.0     3.53644            0.0            7        6  \n",
       "2         15.0     3.53644            0.0            7        6  \n",
       "3         16.7     3.52267            0.0            8        6  \n",
       "4         16.7     3.52267            0.0            8        6  "
      ]
     },
     "execution_count": 5,
     "metadata": {},
     "output_type": "execute_result"
    }
   ],
   "source": [
    "df.head()"
   ]
  },
  {
   "cell_type": "code",
   "execution_count": 6,
   "metadata": {},
   "outputs": [
    {
     "data": {
      "image/png": "[encoded data removed]",
      "text/plain": [
       "<Figure size 1000x800 with 2 Axes>"
      ]
     },
     "metadata": {},
     "output_type": "display_data"
    }
   ],
   "source": [
    "import seaborn as sns\n",
    "correlation_matrix = df.corr()\n",
    "plt.figure(figsize=(10, 8))\n",
    "sns.heatmap(correlation_matrix, annot=True, cmap='coolwarm', fmt=\".2f\", linewidths=0.5)\n",
    "col_idx = df.columns.get_loc('ACTUAL_DELIVERY_MINUTES')\n",
    "plt.gca().add_patch(plt.Rectangle((col_idx, 0), 1, df.shape[0], fill=False, edgecolor='red', lw=2))\n",
    "plt.title('Correlation Heatmap')\n",
    "plt.show()"
   ]
  },
  {
   "cell_type": "code",
   "execution_count": 7,
   "metadata": {},
   "outputs": [],
   "source": [
    "# data cleaned to remove Nan, infs. \n",
    "# the timestamp is divided into hour (1-24) and Day(1-7) to make more sense.\n",
    "# lat,long are kept as they are because they may contain dependent variables (terrain, traffic, road). "
   ]
  },
  {
   "cell_type": "code",
   "execution_count": 8,
   "metadata": {},
   "outputs": [
    {
     "name": "stdout",
     "output_type": "stream",
     "text": [
      "Percentage of outliers in estimations: 0.63%\n"
     ]
    }
   ],
   "source": [
    "differences = df['ACTUAL_DELIVERY_MINUTES']-df['ESTIMATED_DELIVERY_MINUTES']\n",
    "outliers_percentage = utils.percentage_outliers(differences)\n",
    "print(f\"Percentage of outliers in estimations: {outliers_percentage:.2f}%\")"
   ]
  },
  {
   "cell_type": "code",
   "execution_count": 9,
   "metadata": {},
   "outputs": [
    {
     "name": "stdout",
     "output_type": "stream",
     "text": [
      "Percentage of outliers in ITEM_COUNT: 1.03%\n",
      "Percentage of outliers in USER_LAT: 0.00%\n",
      "Percentage of outliers in USER_LONG: 0.00%\n",
      "Percentage of outliers in VENUE_LAT: 0.01%\n",
      "Percentage of outliers in VENUE_LONG: 1.26%\n",
      "Percentage of outliers in ESTIMATED_DELIVERY_MINUTES: 1.82%\n",
      "Percentage of outliers in ACTUAL_DELIVERY_MINUTES: 0.00%\n",
      "Percentage of outliers in CLOUD_COVERAGE: 8.92%\n",
      "Percentage of outliers in TEMPERATURE: 1.32%\n",
      "Percentage of outliers in WIND_SPEED: 1.61%\n",
      "Percentage of outliers in PRECIPITATION: 8.89%\n",
      "Percentage of outliers in HOUR_OF_DAY: 0.00%\n",
      "Percentage of outliers in WEEKDAY: 0.00%\n"
     ]
    }
   ],
   "source": [
    "# Calculate and display percentage of outliers for each column\n",
    "for column in df.columns:\n",
    "    outliers_percentage = utils.percentage_outliers(df[column])\n",
    "    print(f\"Percentage of outliers in {column}: {outliers_percentage:.2f}%\")"
   ]
  },
  {
   "cell_type": "markdown",
   "metadata": {},
   "source": [
    "## Data pre-process and split"
   ]
  },
  {
   "cell_type": "code",
   "execution_count": 10,
   "metadata": {},
   "outputs": [],
   "source": [
    "item_count_bins = [i for i in range(1, 11)] + [np.inf]  # Bins for ITEM_COUNT ranging from 1 to 11\n",
    "item_count_labels = [i for i in range(1, 11)]  # Labels for ITEM_COUNT categories (1 to 10)\n",
    "cloud_coverage_bins = [i for i in range(0, 100, 10)] + [np.inf] # Bins for CLOUD_COVERAGE ranging from 0 to 100 with a step of 10\n",
    "cloud_coverage_labels = [i for i in range(10)]  # Labels for CLOUD_COVERAGE categories (0 to 9)\n",
    "\n",
    "df['CLOUD_COVERAGE_CATEGORIZED'] = pd.cut(df['CLOUD_COVERAGE'], bins=cloud_coverage_bins, labels=cloud_coverage_labels, right=False)\n",
    "df['ITEM_COUNT_CATEGORIZED'] = pd.cut(df['ITEM_COUNT'], bins=item_count_bins, labels=item_count_labels, right=False)\n"
   ]
  },
  {
   "cell_type": "code",
   "execution_count": 11,
   "metadata": {},
   "outputs": [],
   "source": [
    "assert not df.isna().any().any(), \"Having NaN values\""
   ]
  },
  {
   "cell_type": "code",
   "execution_count": 12,
   "metadata": {},
   "outputs": [
    {
     "data": {
      "text/html": [
       "<div>\n",
       "<style scoped>\n",
       "    .dataframe tbody tr th:only-of-type {\n",
       "        vertical-align: middle;\n",
       "    }\n",
       "\n",
       "    .dataframe tbody tr th {\n",
       "        vertical-align: top;\n",
       "    }\n",
       "\n",
       "    .dataframe thead th {\n",
       "        text-align: right;\n",
       "    }\n",
       "</style>\n",
       "<table border=\"1\" class=\"dataframe\">\n",
       "  <thead>\n",
       "    <tr style=\"text-align: right;\">\n",
       "      <th></th>\n",
       "      <th>ITEM_COUNT</th>\n",
       "      <th>USER_LAT</th>\n",
       "      <th>USER_LONG</th>\n",
       "      <th>VENUE_LAT</th>\n",
       "      <th>VENUE_LONG</th>\n",
       "      <th>ESTIMATED_DELIVERY_MINUTES</th>\n",
       "      <th>ACTUAL_DELIVERY_MINUTES</th>\n",
       "      <th>CLOUD_COVERAGE</th>\n",
       "      <th>TEMPERATURE</th>\n",
       "      <th>WIND_SPEED</th>\n",
       "      <th>PRECIPITATION</th>\n",
       "      <th>HOUR_OF_DAY</th>\n",
       "      <th>WEEKDAY</th>\n",
       "      <th>CLOUD_COVERAGE_CATEGORIZED</th>\n",
       "      <th>ITEM_COUNT_CATEGORIZED</th>\n",
       "    </tr>\n",
       "  </thead>\n",
       "  <tbody>\n",
       "    <tr>\n",
       "      <th>0</th>\n",
       "      <td>1</td>\n",
       "      <td>60.158</td>\n",
       "      <td>24.946</td>\n",
       "      <td>60.160</td>\n",
       "      <td>24.946</td>\n",
       "      <td>29</td>\n",
       "      <td>10</td>\n",
       "      <td>0.0</td>\n",
       "      <td>15.0</td>\n",
       "      <td>3.53644</td>\n",
       "      <td>0.0</td>\n",
       "      <td>7</td>\n",
       "      <td>6</td>\n",
       "      <td>0</td>\n",
       "      <td>1</td>\n",
       "    </tr>\n",
       "    <tr>\n",
       "      <th>1</th>\n",
       "      <td>8</td>\n",
       "      <td>60.163</td>\n",
       "      <td>24.927</td>\n",
       "      <td>60.153</td>\n",
       "      <td>24.910</td>\n",
       "      <td>39</td>\n",
       "      <td>32</td>\n",
       "      <td>0.0</td>\n",
       "      <td>15.0</td>\n",
       "      <td>3.53644</td>\n",
       "      <td>0.0</td>\n",
       "      <td>7</td>\n",
       "      <td>6</td>\n",
       "      <td>0</td>\n",
       "      <td>8</td>\n",
       "    </tr>\n",
       "    <tr>\n",
       "      <th>2</th>\n",
       "      <td>4</td>\n",
       "      <td>60.161</td>\n",
       "      <td>24.937</td>\n",
       "      <td>60.162</td>\n",
       "      <td>24.939</td>\n",
       "      <td>23</td>\n",
       "      <td>6</td>\n",
       "      <td>0.0</td>\n",
       "      <td>15.0</td>\n",
       "      <td>3.53644</td>\n",
       "      <td>0.0</td>\n",
       "      <td>7</td>\n",
       "      <td>6</td>\n",
       "      <td>0</td>\n",
       "      <td>4</td>\n",
       "    </tr>\n",
       "    <tr>\n",
       "      <th>3</th>\n",
       "      <td>3</td>\n",
       "      <td>60.185</td>\n",
       "      <td>24.954</td>\n",
       "      <td>60.190</td>\n",
       "      <td>24.911</td>\n",
       "      <td>28</td>\n",
       "      <td>26</td>\n",
       "      <td>0.0</td>\n",
       "      <td>16.7</td>\n",
       "      <td>3.52267</td>\n",
       "      <td>0.0</td>\n",
       "      <td>8</td>\n",
       "      <td>6</td>\n",
       "      <td>0</td>\n",
       "      <td>3</td>\n",
       "    </tr>\n",
       "    <tr>\n",
       "      <th>4</th>\n",
       "      <td>2</td>\n",
       "      <td>60.182</td>\n",
       "      <td>24.955</td>\n",
       "      <td>60.178</td>\n",
       "      <td>24.949</td>\n",
       "      <td>27</td>\n",
       "      <td>26</td>\n",
       "      <td>0.0</td>\n",
       "      <td>16.7</td>\n",
       "      <td>3.52267</td>\n",
       "      <td>0.0</td>\n",
       "      <td>8</td>\n",
       "      <td>6</td>\n",
       "      <td>0</td>\n",
       "      <td>2</td>\n",
       "    </tr>\n",
       "  </tbody>\n",
       "</table>\n",
       "</div>"
      ],
      "text/plain": [
       "   ITEM_COUNT  USER_LAT  USER_LONG  VENUE_LAT  VENUE_LONG  \\\n",
       "0           1    60.158     24.946     60.160      24.946   \n",
       "1           8    60.163     24.927     60.153      24.910   \n",
       "2           4    60.161     24.937     60.162      24.939   \n",
       "3           3    60.185     24.954     60.190      24.911   \n",
       "4           2    60.182     24.955     60.178      24.949   \n",
       "\n",
       "   ESTIMATED_DELIVERY_MINUTES  ACTUAL_DELIVERY_MINUTES  CLOUD_COVERAGE  \\\n",
       "0                          29                       10             0.0   \n",
       "1                          39                       32             0.0   \n",
       "2                          23                        6             0.0   \n",
       "3                          28                       26             0.0   \n",
       "4                          27                       26             0.0   \n",
       "\n",
       "   TEMPERATURE  WIND_SPEED  PRECIPITATION  HOUR_OF_DAY  WEEKDAY  \\\n",
       "0         15.0     3.53644            0.0            7        6   \n",
       "1         15.0     3.53644            0.0            7        6   \n",
       "2         15.0     3.53644            0.0            7        6   \n",
       "3         16.7     3.52267            0.0            8        6   \n",
       "4         16.7     3.52267            0.0            8        6   \n",
       "\n",
       "  CLOUD_COVERAGE_CATEGORIZED ITEM_COUNT_CATEGORIZED  \n",
       "0                          0                      1  \n",
       "1                          0                      8  \n",
       "2                          0                      4  \n",
       "3                          0                      3  \n",
       "4                          0                      2  "
      ]
     },
     "execution_count": 12,
     "metadata": {},
     "output_type": "execute_result"
    }
   ],
   "source": [
    "df.head()"
   ]
  },
  {
   "cell_type": "code",
   "execution_count": 13,
   "metadata": {},
   "outputs": [],
   "source": [
    "cats = ['HOUR_OF_DAY','WEEKDAY','CLOUD_COVERAGE_CATEGORIZED','ITEM_COUNT_CATEGORIZED']\n",
    "for cat in cats:\n",
    "    target_means = df.groupby(cat)['ACTUAL_DELIVERY_MINUTES'].mean()\n",
    "    df[cat+'_mean'] = df[cat].map(target_means)"
   ]
  },
  {
   "cell_type": "code",
   "execution_count": 14,
   "metadata": {},
   "outputs": [
    {
     "data": {
      "text/html": [
       "<div>\n",
       "<style scoped>\n",
       "    .dataframe tbody tr th:only-of-type {\n",
       "        vertical-align: middle;\n",
       "    }\n",
       "\n",
       "    .dataframe tbody tr th {\n",
       "        vertical-align: top;\n",
       "    }\n",
       "\n",
       "    .dataframe thead th {\n",
       "        text-align: right;\n",
       "    }\n",
       "</style>\n",
       "<table border=\"1\" class=\"dataframe\">\n",
       "  <thead>\n",
       "    <tr style=\"text-align: right;\">\n",
       "      <th></th>\n",
       "      <th>ITEM_COUNT</th>\n",
       "      <th>USER_LAT</th>\n",
       "      <th>USER_LONG</th>\n",
       "      <th>VENUE_LAT</th>\n",
       "      <th>VENUE_LONG</th>\n",
       "      <th>ESTIMATED_DELIVERY_MINUTES</th>\n",
       "      <th>ACTUAL_DELIVERY_MINUTES</th>\n",
       "      <th>CLOUD_COVERAGE</th>\n",
       "      <th>TEMPERATURE</th>\n",
       "      <th>WIND_SPEED</th>\n",
       "      <th>PRECIPITATION</th>\n",
       "      <th>HOUR_OF_DAY</th>\n",
       "      <th>WEEKDAY</th>\n",
       "      <th>CLOUD_COVERAGE_CATEGORIZED</th>\n",
       "      <th>ITEM_COUNT_CATEGORIZED</th>\n",
       "      <th>HOUR_OF_DAY_mean</th>\n",
       "      <th>WEEKDAY_mean</th>\n",
       "      <th>CLOUD_COVERAGE_CATEGORIZED_mean</th>\n",
       "      <th>ITEM_COUNT_CATEGORIZED_mean</th>\n",
       "    </tr>\n",
       "  </thead>\n",
       "  <tbody>\n",
       "    <tr>\n",
       "      <th>0</th>\n",
       "      <td>1</td>\n",
       "      <td>60.158</td>\n",
       "      <td>24.946</td>\n",
       "      <td>60.160</td>\n",
       "      <td>24.946</td>\n",
       "      <td>29</td>\n",
       "      <td>10</td>\n",
       "      <td>0.0</td>\n",
       "      <td>15.0</td>\n",
       "      <td>3.53644</td>\n",
       "      <td>0.0</td>\n",
       "      <td>7</td>\n",
       "      <td>6</td>\n",
       "      <td>0</td>\n",
       "      <td>1</td>\n",
       "      <td>29.561856</td>\n",
       "      <td>31.659529</td>\n",
       "      <td>32.508503</td>\n",
       "      <td>31.746966</td>\n",
       "    </tr>\n",
       "    <tr>\n",
       "      <th>1</th>\n",
       "      <td>8</td>\n",
       "      <td>60.163</td>\n",
       "      <td>24.927</td>\n",
       "      <td>60.153</td>\n",
       "      <td>24.910</td>\n",
       "      <td>39</td>\n",
       "      <td>32</td>\n",
       "      <td>0.0</td>\n",
       "      <td>15.0</td>\n",
       "      <td>3.53644</td>\n",
       "      <td>0.0</td>\n",
       "      <td>7</td>\n",
       "      <td>6</td>\n",
       "      <td>0</td>\n",
       "      <td>8</td>\n",
       "      <td>29.561856</td>\n",
       "      <td>31.659529</td>\n",
       "      <td>32.508503</td>\n",
       "      <td>34.990654</td>\n",
       "    </tr>\n",
       "    <tr>\n",
       "      <th>2</th>\n",
       "      <td>4</td>\n",
       "      <td>60.161</td>\n",
       "      <td>24.937</td>\n",
       "      <td>60.162</td>\n",
       "      <td>24.939</td>\n",
       "      <td>23</td>\n",
       "      <td>6</td>\n",
       "      <td>0.0</td>\n",
       "      <td>15.0</td>\n",
       "      <td>3.53644</td>\n",
       "      <td>0.0</td>\n",
       "      <td>7</td>\n",
       "      <td>6</td>\n",
       "      <td>0</td>\n",
       "      <td>4</td>\n",
       "      <td>29.561856</td>\n",
       "      <td>31.659529</td>\n",
       "      <td>32.508503</td>\n",
       "      <td>33.237195</td>\n",
       "    </tr>\n",
       "    <tr>\n",
       "      <th>3</th>\n",
       "      <td>3</td>\n",
       "      <td>60.185</td>\n",
       "      <td>24.954</td>\n",
       "      <td>60.190</td>\n",
       "      <td>24.911</td>\n",
       "      <td>28</td>\n",
       "      <td>26</td>\n",
       "      <td>0.0</td>\n",
       "      <td>16.7</td>\n",
       "      <td>3.52267</td>\n",
       "      <td>0.0</td>\n",
       "      <td>8</td>\n",
       "      <td>6</td>\n",
       "      <td>0</td>\n",
       "      <td>3</td>\n",
       "      <td>27.614094</td>\n",
       "      <td>31.659529</td>\n",
       "      <td>32.508503</td>\n",
       "      <td>32.628403</td>\n",
       "    </tr>\n",
       "    <tr>\n",
       "      <th>4</th>\n",
       "      <td>2</td>\n",
       "      <td>60.182</td>\n",
       "      <td>24.955</td>\n",
       "      <td>60.178</td>\n",
       "      <td>24.949</td>\n",
       "      <td>27</td>\n",
       "      <td>26</td>\n",
       "      <td>0.0</td>\n",
       "      <td>16.7</td>\n",
       "      <td>3.52267</td>\n",
       "      <td>0.0</td>\n",
       "      <td>8</td>\n",
       "      <td>6</td>\n",
       "      <td>0</td>\n",
       "      <td>2</td>\n",
       "      <td>27.614094</td>\n",
       "      <td>31.659529</td>\n",
       "      <td>32.508503</td>\n",
       "      <td>32.812229</td>\n",
       "    </tr>\n",
       "  </tbody>\n",
       "</table>\n",
       "</div>"
      ],
      "text/plain": [
       "   ITEM_COUNT  USER_LAT  USER_LONG  VENUE_LAT  VENUE_LONG  \\\n",
       "0           1    60.158     24.946     60.160      24.946   \n",
       "1           8    60.163     24.927     60.153      24.910   \n",
       "2           4    60.161     24.937     60.162      24.939   \n",
       "3           3    60.185     24.954     60.190      24.911   \n",
       "4           2    60.182     24.955     60.178      24.949   \n",
       "\n",
       "   ESTIMATED_DELIVERY_MINUTES  ACTUAL_DELIVERY_MINUTES  CLOUD_COVERAGE  \\\n",
       "0                          29                       10             0.0   \n",
       "1                          39                       32             0.0   \n",
       "2                          23                        6             0.0   \n",
       "3                          28                       26             0.0   \n",
       "4                          27                       26             0.0   \n",
       "\n",
       "   TEMPERATURE  WIND_SPEED  PRECIPITATION  HOUR_OF_DAY  WEEKDAY  \\\n",
       "0         15.0     3.53644            0.0            7        6   \n",
       "1         15.0     3.53644            0.0            7        6   \n",
       "2         15.0     3.53644            0.0            7        6   \n",
       "3         16.7     3.52267            0.0            8        6   \n",
       "4         16.7     3.52267            0.0            8        6   \n",
       "\n",
       "  CLOUD_COVERAGE_CATEGORIZED ITEM_COUNT_CATEGORIZED  HOUR_OF_DAY_mean  \\\n",
       "0                          0                      1         29.561856   \n",
       "1                          0                      8         29.561856   \n",
       "2                          0                      4         29.561856   \n",
       "3                          0                      3         27.614094   \n",
       "4                          0                      2         27.614094   \n",
       "\n",
       "   WEEKDAY_mean  CLOUD_COVERAGE_CATEGORIZED_mean ITEM_COUNT_CATEGORIZED_mean  \n",
       "0     31.659529                        32.508503                   31.746966  \n",
       "1     31.659529                        32.508503                   34.990654  \n",
       "2     31.659529                        32.508503                   33.237195  \n",
       "3     31.659529                        32.508503                   32.628403  \n",
       "4     31.659529                        32.508503                   32.812229  "
      ]
     },
     "execution_count": 14,
     "metadata": {},
     "output_type": "execute_result"
    }
   ],
   "source": [
    "df.head()\n"
   ]
  },
  {
   "cell_type": "code",
   "execution_count": 15,
   "metadata": {},
   "outputs": [],
   "source": [
    "X = df.drop(columns=['ESTIMATED_DELIVERY_MINUTES','ACTUAL_DELIVERY_MINUTES','CLOUD_COVERAGE','ITEM_COUNT']+cats)  \n",
    "y = df['ACTUAL_DELIVERY_MINUTES'] \n",
    "split_indices = utils.splited_indices(X,y)"
   ]
  },
  {
   "cell_type": "code",
   "execution_count": 16,
   "metadata": {},
   "outputs": [
    {
     "data": {
      "text/html": [
       "<div>\n",
       "<style scoped>\n",
       "    .dataframe tbody tr th:only-of-type {\n",
       "        vertical-align: middle;\n",
       "    }\n",
       "\n",
       "    .dataframe tbody tr th {\n",
       "        vertical-align: top;\n",
       "    }\n",
       "\n",
       "    .dataframe thead th {\n",
       "        text-align: right;\n",
       "    }\n",
       "</style>\n",
       "<table border=\"1\" class=\"dataframe\">\n",
       "  <thead>\n",
       "    <tr style=\"text-align: right;\">\n",
       "      <th></th>\n",
       "      <th>USER_LAT</th>\n",
       "      <th>USER_LONG</th>\n",
       "      <th>VENUE_LAT</th>\n",
       "      <th>VENUE_LONG</th>\n",
       "      <th>TEMPERATURE</th>\n",
       "      <th>WIND_SPEED</th>\n",
       "      <th>PRECIPITATION</th>\n",
       "      <th>HOUR_OF_DAY_mean</th>\n",
       "      <th>WEEKDAY_mean</th>\n",
       "      <th>CLOUD_COVERAGE_CATEGORIZED_mean</th>\n",
       "      <th>ITEM_COUNT_CATEGORIZED_mean</th>\n",
       "    </tr>\n",
       "  </thead>\n",
       "  <tbody>\n",
       "    <tr>\n",
       "      <th>0</th>\n",
       "      <td>60.158</td>\n",
       "      <td>24.946</td>\n",
       "      <td>60.160</td>\n",
       "      <td>24.946</td>\n",
       "      <td>15.0</td>\n",
       "      <td>3.53644</td>\n",
       "      <td>0.0</td>\n",
       "      <td>29.561856</td>\n",
       "      <td>31.659529</td>\n",
       "      <td>32.508503</td>\n",
       "      <td>31.746966</td>\n",
       "    </tr>\n",
       "    <tr>\n",
       "      <th>1</th>\n",
       "      <td>60.163</td>\n",
       "      <td>24.927</td>\n",
       "      <td>60.153</td>\n",
       "      <td>24.910</td>\n",
       "      <td>15.0</td>\n",
       "      <td>3.53644</td>\n",
       "      <td>0.0</td>\n",
       "      <td>29.561856</td>\n",
       "      <td>31.659529</td>\n",
       "      <td>32.508503</td>\n",
       "      <td>34.990654</td>\n",
       "    </tr>\n",
       "    <tr>\n",
       "      <th>2</th>\n",
       "      <td>60.161</td>\n",
       "      <td>24.937</td>\n",
       "      <td>60.162</td>\n",
       "      <td>24.939</td>\n",
       "      <td>15.0</td>\n",
       "      <td>3.53644</td>\n",
       "      <td>0.0</td>\n",
       "      <td>29.561856</td>\n",
       "      <td>31.659529</td>\n",
       "      <td>32.508503</td>\n",
       "      <td>33.237195</td>\n",
       "    </tr>\n",
       "    <tr>\n",
       "      <th>3</th>\n",
       "      <td>60.185</td>\n",
       "      <td>24.954</td>\n",
       "      <td>60.190</td>\n",
       "      <td>24.911</td>\n",
       "      <td>16.7</td>\n",
       "      <td>3.52267</td>\n",
       "      <td>0.0</td>\n",
       "      <td>27.614094</td>\n",
       "      <td>31.659529</td>\n",
       "      <td>32.508503</td>\n",
       "      <td>32.628403</td>\n",
       "    </tr>\n",
       "    <tr>\n",
       "      <th>4</th>\n",
       "      <td>60.182</td>\n",
       "      <td>24.955</td>\n",
       "      <td>60.178</td>\n",
       "      <td>24.949</td>\n",
       "      <td>16.7</td>\n",
       "      <td>3.52267</td>\n",
       "      <td>0.0</td>\n",
       "      <td>27.614094</td>\n",
       "      <td>31.659529</td>\n",
       "      <td>32.508503</td>\n",
       "      <td>32.812229</td>\n",
       "    </tr>\n",
       "  </tbody>\n",
       "</table>\n",
       "</div>"
      ],
      "text/plain": [
       "   USER_LAT  USER_LONG  VENUE_LAT  VENUE_LONG  TEMPERATURE  WIND_SPEED  \\\n",
       "0    60.158     24.946     60.160      24.946         15.0     3.53644   \n",
       "1    60.163     24.927     60.153      24.910         15.0     3.53644   \n",
       "2    60.161     24.937     60.162      24.939         15.0     3.53644   \n",
       "3    60.185     24.954     60.190      24.911         16.7     3.52267   \n",
       "4    60.182     24.955     60.178      24.949         16.7     3.52267   \n",
       "\n",
       "   PRECIPITATION  HOUR_OF_DAY_mean  WEEKDAY_mean  \\\n",
       "0            0.0         29.561856     31.659529   \n",
       "1            0.0         29.561856     31.659529   \n",
       "2            0.0         29.561856     31.659529   \n",
       "3            0.0         27.614094     31.659529   \n",
       "4            0.0         27.614094     31.659529   \n",
       "\n",
       "   CLOUD_COVERAGE_CATEGORIZED_mean ITEM_COUNT_CATEGORIZED_mean  \n",
       "0                        32.508503                   31.746966  \n",
       "1                        32.508503                   34.990654  \n",
       "2                        32.508503                   33.237195  \n",
       "3                        32.508503                   32.628403  \n",
       "4                        32.508503                   32.812229  "
      ]
     },
     "execution_count": 16,
     "metadata": {},
     "output_type": "execute_result"
    }
   ],
   "source": [
    "X.head()"
   ]
  },
  {
   "cell_type": "markdown",
   "metadata": {},
   "source": [
    "## Esimation performance"
   ]
  },
  {
   "cell_type": "code",
   "execution_count": 17,
   "metadata": {},
   "outputs": [
    {
     "name": "stderr",
     "output_type": "stream",
     "text": [
      "100%|██████████| 5/5 [00:00<00:00, 599.22it/s]\n"
     ]
    }
   ],
   "source": [
    "cv_minute_error_scores = []\n",
    "cv_f1_scores = []\n",
    "\n",
    "for (_, val_idx) in tqdm(split_indices):\n",
    "    y_pred = df['ESTIMATED_DELIVERY_MINUTES'].iloc[val_idx]\n",
    "    y_true = df['ACTUAL_DELIVERY_MINUTES'].iloc[val_idx]\n",
    "    cv_minute_error_score = utils.minute_error(y_pred, y_true)\n",
    "    f1,p,r = utils.f1_score(y_true,y_pred,threshold=1)\n",
    "    cv_minute_error_scores.append(cv_minute_error_score)\n",
    "    cv_f1_scores.append(f1)"
   ]
  },
  {
   "cell_type": "code",
   "execution_count": 18,
   "metadata": {},
   "outputs": [
    {
     "name": "stdout",
     "output_type": "stream",
     "text": [
      "Cross-validation minute error scores: [7.329172320217096, 7.280325644504749, 7.255088195386703, 7.204341926729986, 7.195929443690638]\n",
      "Mean minute error: 7.25\n",
      "F-scores: [0.2262334536209193, 0.22836538456589797, 0.22751322746411703, 0.23218997356548665, 0.23894862599615185]\n"
     ]
    }
   ],
   "source": [
    "# Display cross-validation results for minute error\n",
    "print(\"Cross-validation minute error scores:\", cv_minute_error_scores)\n",
    "print(\"Mean minute error: {:.2f}\".format(np.mean(cv_minute_error_scores)))\n",
    "print(\"F-scores:\", cv_f1_scores)"
   ]
  },
  {
   "cell_type": "markdown",
   "metadata": {},
   "source": [
    "## Linear regression"
   ]
  },
  {
   "cell_type": "code",
   "execution_count": 19,
   "metadata": {},
   "outputs": [],
   "source": [
    "from sklearn.linear_model import LinearRegression"
   ]
  },
  {
   "cell_type": "code",
   "execution_count": 20,
   "metadata": {},
   "outputs": [
    {
     "name": "stderr",
     "output_type": "stream",
     "text": [
      "100%|██████████| 5/5 [00:00<00:00, 15.52it/s]\n"
     ]
    }
   ],
   "source": [
    "model = LinearRegression()\n",
    "cv_minute_error_scores = []\n",
    "cv_f1_scores = []\n",
    "for train_idx, val_idx in tqdm(split_indices):\n",
    "    # Get the data subsets for this split\n",
    "    X_train, X_val = X.iloc[train_idx], X.iloc[val_idx]\n",
    "    y_train, y_val = y.iloc[train_idx], y.iloc[val_idx]\n",
    "    \n",
    "    # Fit the model to the training data\n",
    "    model.fit(X_train, y_train)\n",
    "    y_pred = model.predict(X_val)\n",
    "    \n",
    "    # Evaluate the model on the validation set and compute minute error\n",
    "    cv_minute_error_score = utils.minute_error(y_pred,y_val)\n",
    "    \n",
    "    f1,p,r = utils.f1_score(y_val,y_pred,threshold=1)\n",
    "    # Store the minute error score for this split\n",
    "    cv_minute_error_scores.append(cv_minute_error_score)\n",
    "    cv_f1_scores.append(f1)"
   ]
  },
  {
   "cell_type": "code",
   "execution_count": 21,
   "metadata": {},
   "outputs": [
    {
     "name": "stdout",
     "output_type": "stream",
     "text": [
      "Cross-validation minute error scores: [7.900236047201147, 7.884129191989999, 7.810562757805431, 7.899835522821589, 7.882068152782879]\n",
      "Mean minute error: 7.88\n",
      "F-scores: [0.1303906645872709, 0.1322858590478715, 0.13133874234359105, 0.1351214574400076, 0.13464945578398238]\n"
     ]
    }
   ],
   "source": [
    "# Display cross-validation results for minute error\n",
    "print(\"Cross-validation minute error scores:\", cv_minute_error_scores)\n",
    "print(\"Mean minute error: {:.2f}\".format(np.mean(cv_minute_error_scores)))\n",
    "print(\"F-scores:\", cv_f1_scores)"
   ]
  },
  {
   "cell_type": "markdown",
   "metadata": {},
   "source": [
    "## Model LSTM"
   ]
  },
  {
   "cell_type": "code",
   "execution_count": 22,
   "metadata": {},
   "outputs": [],
   "source": [
    "from sklearn.preprocessing import StandardScaler, OneHotEncoder\n",
    "from sklearn.compose import ColumnTransformer\n",
    "import tensorflow as tf"
   ]
  },
  {
   "cell_type": "code",
   "execution_count": 23,
   "metadata": {},
   "outputs": [],
   "source": [
    "from sklearn.preprocessing import StandardScaler\n",
    "\n",
    "# Initialize StandardScaler for all features\n",
    "numeric_transformer = StandardScaler()\n",
    "\n",
    "# Apply the scaler directly to your data\n",
    "X_processed = numeric_transformer.fit_transform(X)"
   ]
  },
  {
   "cell_type": "code",
   "execution_count": 24,
   "metadata": {},
   "outputs": [],
   "source": [
    "from tensorflow.keras.layers import LSTM, Dense, Dropout\n",
    "from tensorflow.keras.models import Model\n",
    "\n",
    "UNITS = 64\n",
    "NUM_LSTM_LAYERS = 2  \n",
    "NUM_CLASSES = 60\n",
    "\n",
    "class MyModel(Model):\n",
    "    def __init__(self):\n",
    "        super(MyModel, self).__init__()\n",
    "        self.lstm_layers = [LSTM(UNITS, return_sequences=True) for _ in range(NUM_LSTM_LAYERS)]\n",
    "        self.dropout = Dropout(0.5)\n",
    "        self.logits = Dense(NUM_CLASSES, activation='softmax')\n",
    "\n",
    "    def call(self, inputs):\n",
    "        lstm_output = inputs\n",
    "        for layer in self.lstm_layers:\n",
    "            lstm_output = layer(lstm_output)\n",
    "        lstm_output = tf.reshape(lstm_output, [-1, UNITS]) \n",
    "        lstm_output = self.dropout(lstm_output)\n",
    "        logits = self.logits(lstm_output)\n",
    "        return logits"
   ]
  },
  {
   "cell_type": "code",
   "execution_count": 25,
   "metadata": {},
   "outputs": [],
   "source": [
    "loss_function = tf.keras.losses.SparseCategoricalCrossentropy(from_logits=False)\n",
    "optimizer = tf.keras.optimizers.legacy.Adam()\n",
    "train_loss = tf.keras.metrics.Mean()\n",
    "\n",
    "model = MyModel()"
   ]
  },
  {
   "cell_type": "code",
   "execution_count": 26,
   "metadata": {},
   "outputs": [],
   "source": [
    "@tf.function\n",
    "def train_step(input, labels):\n",
    "  with tf.GradientTape() as tape:\n",
    "    predictions = model(input, training=True)\n",
    "    loss = loss_function(labels, predictions)\n",
    "  gradients = tape.gradient(loss, model.trainable_variables)\n",
    "  optimizer.apply_gradients(zip(gradients, model.trainable_variables))\n",
    "  train_loss(loss)"
   ]
  },
  {
   "cell_type": "code",
   "execution_count": 27,
   "metadata": {},
   "outputs": [
    {
     "name": "stderr",
     "output_type": "stream",
     "text": [
      "  0%|          | 0/1473 [00:00<?, ?it/s]2024-01-30 00:13:13.995670: W tensorflow/tsl/platform/profile_utils/cpu_utils.cc:128] Failed to get CPU frequency: 0 Hz\n",
      "Training Loss: 3.7519: 100%|██████████| 1473/1473 [00:43<00:00, 33.78it/s]\n"
     ]
    },
    {
     "name": "stdout",
     "output_type": "stream",
     "text": [
      "Epoch: 1 -- F-score: 0.20112277271126483\n"
     ]
    },
    {
     "name": "stderr",
     "output_type": "stream",
     "text": [
      "Training Loss: 3.7133: 100%|██████████| 1473/1473 [00:29<00:00, 50.08it/s]\n"
     ]
    },
    {
     "name": "stdout",
     "output_type": "stream",
     "text": [
      "Epoch: 2 -- F-score: 0.2063762472126945\n"
     ]
    },
    {
     "name": "stderr",
     "output_type": "stream",
     "text": [
      "Training Loss: 3.6912: 100%|██████████| 1473/1473 [00:26<00:00, 54.75it/s]\n"
     ]
    },
    {
     "name": "stdout",
     "output_type": "stream",
     "text": [
      "Epoch: 3 -- F-score: 0.21290009694342735\n"
     ]
    },
    {
     "name": "stderr",
     "output_type": "stream",
     "text": [
      "Training Loss: 3.6726: 100%|██████████| 1473/1473 [00:27<00:00, 53.33it/s]\n"
     ]
    },
    {
     "name": "stdout",
     "output_type": "stream",
     "text": [
      "Epoch: 4 -- F-score: 0.2309169466617325\n"
     ]
    },
    {
     "name": "stderr",
     "output_type": "stream",
     "text": [
      "Training Loss: 3.6562: 100%|██████████| 1473/1473 [00:26<00:00, 55.99it/s]\n"
     ]
    },
    {
     "name": "stdout",
     "output_type": "stream",
     "text": [
      "no progress with 0.2215<0.2309\n",
      "Epoch: 5 -- F-score: 0.22152509647562416\n"
     ]
    },
    {
     "name": "stderr",
     "output_type": "stream",
     "text": [
      "Training Loss: 3.6400: 100%|██████████| 1473/1473 [00:27<00:00, 53.73it/s]\n"
     ]
    },
    {
     "name": "stdout",
     "output_type": "stream",
     "text": [
      "no progress with 0.2228<0.2309\n",
      "Epoch: 6 -- F-score: 0.22281167103798993\n"
     ]
    },
    {
     "name": "stderr",
     "output_type": "stream",
     "text": [
      "Training Loss: 3.6228: 100%|██████████| 1473/1473 [00:26<00:00, 55.90it/s]\n"
     ]
    },
    {
     "name": "stdout",
     "output_type": "stream",
     "text": [
      "no progress with 0.2271<0.2309\n",
      "Epoch: 7 -- F-score: 0.2270868414226792\n"
     ]
    },
    {
     "name": "stderr",
     "output_type": "stream",
     "text": [
      "Training Loss: 3.6043: 100%|██████████| 1473/1473 [00:26<00:00, 55.92it/s]\n"
     ]
    },
    {
     "name": "stdout",
     "output_type": "stream",
     "text": [
      "no progress with 0.2112<0.2309\n",
      "Epoch: 8 -- F-score: 0.21116504849401954\n"
     ]
    },
    {
     "name": "stderr",
     "output_type": "stream",
     "text": [
      "Training Loss: 3.5845: 100%|██████████| 1473/1473 [00:26<00:00, 56.01it/s]\n"
     ]
    },
    {
     "name": "stdout",
     "output_type": "stream",
     "text": [
      "no progress with 0.2138<0.2309\n",
      "\n"
     ]
    },
    {
     "name": "stderr",
     "output_type": "stream",
     "text": [
      "Training Loss: 3.6298: 100%|██████████| 1473/1473 [00:26<00:00, 55.49it/s]\n"
     ]
    },
    {
     "name": "stdout",
     "output_type": "stream",
     "text": [
      "Epoch: 1 -- F-score: 0.22836538456540606\n"
     ]
    },
    {
     "name": "stderr",
     "output_type": "stream",
     "text": [
      "Training Loss: 3.6052: 100%|██████████| 1473/1473 [00:26<00:00, 55.79it/s]\n"
     ]
    },
    {
     "name": "stdout",
     "output_type": "stream",
     "text": [
      "no progress with 0.2168<0.2284\n",
      "Epoch: 2 -- F-score: 0.2167916766981847\n"
     ]
    },
    {
     "name": "stderr",
     "output_type": "stream",
     "text": [
      "Training Loss: 3.5855: 100%|██████████| 1473/1473 [00:26<00:00, 55.93it/s]\n"
     ]
    },
    {
     "name": "stdout",
     "output_type": "stream",
     "text": [
      "no progress with 0.2159<0.2284\n",
      "Epoch: 3 -- F-score: 0.21592834659734386\n"
     ]
    },
    {
     "name": "stderr",
     "output_type": "stream",
     "text": [
      "Training Loss: 3.5640: 100%|██████████| 1473/1473 [00:26<00:00, 55.81it/s]\n"
     ]
    },
    {
     "name": "stdout",
     "output_type": "stream",
     "text": [
      "no progress with 0.2090<0.2284\n",
      "Epoch: 4 -- F-score: 0.2089914944822242\n"
     ]
    },
    {
     "name": "stderr",
     "output_type": "stream",
     "text": [
      "Training Loss: 3.5400: 100%|██████████| 1473/1473 [00:26<00:00, 56.07it/s]\n"
     ]
    },
    {
     "name": "stdout",
     "output_type": "stream",
     "text": [
      "no progress with 0.2099<0.2284\n",
      "Epoch: 5 -- F-score: 0.209861549622152\n"
     ]
    },
    {
     "name": "stderr",
     "output_type": "stream",
     "text": [
      "Training Loss: 3.5140: 100%|██████████| 1473/1473 [00:26<00:00, 56.03it/s]\n"
     ]
    },
    {
     "name": "stdout",
     "output_type": "stream",
     "text": [
      "no progress with 0.2020<0.2284\n",
      "\n"
     ]
    },
    {
     "name": "stderr",
     "output_type": "stream",
     "text": [
      "Training Loss: 3.6241: 100%|██████████| 1473/1473 [00:26<00:00, 56.15it/s]\n"
     ]
    },
    {
     "name": "stdout",
     "output_type": "stream",
     "text": [
      "Epoch: 1 -- F-score: 0.22366835377042943\n"
     ]
    },
    {
     "name": "stderr",
     "output_type": "stream",
     "text": [
      "Training Loss: 3.5962: 100%|██████████| 1473/1473 [00:26<00:00, 56.06it/s]\n"
     ]
    },
    {
     "name": "stdout",
     "output_type": "stream",
     "text": [
      "no progress with 0.2228<0.2237\n",
      "Epoch: 2 -- F-score: 0.2228116710378409\n"
     ]
    },
    {
     "name": "stderr",
     "output_type": "stream",
     "text": [
      "Training Loss: 3.5731: 100%|██████████| 1473/1473 [00:26<00:00, 56.07it/s]\n"
     ]
    },
    {
     "name": "stdout",
     "output_type": "stream",
     "text": [
      "no progress with 0.2224<0.2237\n",
      "Epoch: 3 -- F-score: 0.22238301972853106\n"
     ]
    },
    {
     "name": "stderr",
     "output_type": "stream",
     "text": [
      "Training Loss: 3.5481: 100%|██████████| 1473/1473 [00:26<00:00, 56.11it/s]\n"
     ]
    },
    {
     "name": "stdout",
     "output_type": "stream",
     "text": [
      "no progress with 0.2224<0.2237\n",
      "Epoch: 4 -- F-score: 0.2223830197284016\n"
     ]
    },
    {
     "name": "stderr",
     "output_type": "stream",
     "text": [
      "Training Loss: 3.5208: 100%|██████████| 1473/1473 [00:26<00:00, 56.55it/s]\n"
     ]
    },
    {
     "name": "stdout",
     "output_type": "stream",
     "text": [
      "no progress with 0.2164<0.2237\n",
      "Epoch: 5 -- F-score: 0.2163601161168536\n"
     ]
    },
    {
     "name": "stderr",
     "output_type": "stream",
     "text": [
      "Training Loss: 3.4922: 100%|██████████| 1473/1473 [00:26<00:00, 56.41it/s]\n"
     ]
    },
    {
     "name": "stdout",
     "output_type": "stream",
     "text": [
      "no progress with 0.2129<0.2237\n",
      "\n"
     ]
    },
    {
     "name": "stderr",
     "output_type": "stream",
     "text": [
      "Training Loss: 3.6114: 100%|██████████| 1473/1473 [00:26<00:00, 56.42it/s]\n"
     ]
    },
    {
     "name": "stdout",
     "output_type": "stream",
     "text": [
      "Epoch: 1 -- F-score: 0.21765417165497244\n"
     ]
    },
    {
     "name": "stderr",
     "output_type": "stream",
     "text": [
      "Training Loss: 3.5818: 100%|██████████| 1473/1473 [00:26<00:00, 56.48it/s]\n"
     ]
    },
    {
     "name": "stdout",
     "output_type": "stream",
     "text": [
      "Epoch: 2 -- F-score: 0.2236683537702226\n"
     ]
    },
    {
     "name": "stderr",
     "output_type": "stream",
     "text": [
      "Training Loss: 3.5562: 100%|██████████| 1473/1473 [00:26<00:00, 56.30it/s]\n"
     ]
    },
    {
     "name": "stdout",
     "output_type": "stream",
     "text": [
      "no progress with 0.2168<0.2237\n",
      "Epoch: 3 -- F-score: 0.21679167669811755\n"
     ]
    },
    {
     "name": "stderr",
     "output_type": "stream",
     "text": [
      "Training Loss: 3.5290: 100%|██████████| 1473/1473 [00:26<00:00, 56.33it/s]\n"
     ]
    },
    {
     "name": "stdout",
     "output_type": "stream",
     "text": [
      "no progress with 0.2207<0.2237\n",
      "Epoch: 4 -- F-score: 0.22066634471098168\n"
     ]
    },
    {
     "name": "stderr",
     "output_type": "stream",
     "text": [
      "Training Loss: 3.5002: 100%|██████████| 1473/1473 [00:26<00:00, 56.02it/s]\n"
     ]
    },
    {
     "name": "stdout",
     "output_type": "stream",
     "text": [
      "no progress with 0.2046<0.2237\n",
      "Epoch: 5 -- F-score: 0.20462850177703024\n"
     ]
    },
    {
     "name": "stderr",
     "output_type": "stream",
     "text": [
      "Training Loss: 3.4707: 100%|██████████| 1473/1473 [00:27<00:00, 53.35it/s]\n"
     ]
    },
    {
     "name": "stdout",
     "output_type": "stream",
     "text": [
      "no progress with 0.2198<0.2237\n",
      "Epoch: 6 -- F-score: 0.21980676323502144\n"
     ]
    },
    {
     "name": "stderr",
     "output_type": "stream",
     "text": [
      "Training Loss: 3.4410: 100%|██████████| 1473/1473 [00:26<00:00, 56.04it/s]\n"
     ]
    },
    {
     "name": "stdout",
     "output_type": "stream",
     "text": [
      "no progress with 0.2077<0.2237\n",
      "\n"
     ]
    },
    {
     "name": "stderr",
     "output_type": "stream",
     "text": [
      "Training Loss: 3.6153: 100%|██████████| 1473/1473 [00:26<00:00, 56.16it/s]\n"
     ]
    },
    {
     "name": "stdout",
     "output_type": "stream",
     "text": [
      "Epoch: 1 -- F-score: 0.2253792438702325\n"
     ]
    },
    {
     "name": "stderr",
     "output_type": "stream",
     "text": [
      "Training Loss: 3.5845: 100%|██████████| 1473/1473 [00:26<00:00, 55.92it/s]\n"
     ]
    },
    {
     "name": "stdout",
     "output_type": "stream",
     "text": [
      "Epoch: 2 -- F-score: 0.23346116965284278\n"
     ]
    },
    {
     "name": "stderr",
     "output_type": "stream",
     "text": [
      "Training Loss: 3.5585: 100%|██████████| 1473/1473 [00:26<00:00, 55.78it/s]\n"
     ]
    },
    {
     "name": "stdout",
     "output_type": "stream",
     "text": [
      "no progress with 0.2232<0.2335\n",
      "Epoch: 3 -- F-score: 0.2232401156684156\n"
     ]
    },
    {
     "name": "stderr",
     "output_type": "stream",
     "text": [
      "Training Loss: 3.5315: 100%|██████████| 1473/1473 [00:26<00:00, 55.78it/s]\n"
     ]
    },
    {
     "name": "stdout",
     "output_type": "stream",
     "text": [
      "Epoch: 4 -- F-score: 0.23894862599539005\n"
     ]
    },
    {
     "name": "stderr",
     "output_type": "stream",
     "text": [
      "Training Loss: 3.5030: 100%|██████████| 1473/1473 [00:26<00:00, 55.83it/s]\n"
     ]
    },
    {
     "name": "stdout",
     "output_type": "stream",
     "text": [
      "no progress with 0.2194<0.2389\n",
      "Epoch: 5 -- F-score: 0.21937666097922387\n"
     ]
    },
    {
     "name": "stderr",
     "output_type": "stream",
     "text": [
      "Training Loss: 3.4734: 100%|██████████| 1473/1473 [00:26<00:00, 56.15it/s]\n"
     ]
    },
    {
     "name": "stdout",
     "output_type": "stream",
     "text": [
      "no progress with 0.2330<0.2389\n",
      "Epoch: 6 -- F-score: 0.2330376408035027\n"
     ]
    },
    {
     "name": "stderr",
     "output_type": "stream",
     "text": [
      "Training Loss: 3.4438: 100%|██████████| 1473/1473 [00:26<00:00, 55.89it/s]\n"
     ]
    },
    {
     "name": "stdout",
     "output_type": "stream",
     "text": [
      "no progress with 0.2177<0.2389\n",
      "Epoch: 7 -- F-score: 0.21765417165494735\n"
     ]
    },
    {
     "name": "stderr",
     "output_type": "stream",
     "text": [
      "Training Loss: 3.4144: 100%|██████████| 1473/1473 [00:26<00:00, 55.99it/s]\n"
     ]
    },
    {
     "name": "stdout",
     "output_type": "stream",
     "text": [
      "no progress with 0.2284<0.2389\n",
      "Epoch: 8 -- F-score: 0.22836538456537922\n"
     ]
    },
    {
     "name": "stderr",
     "output_type": "stream",
     "text": [
      "Training Loss: 3.3856: 100%|██████████| 1473/1473 [00:26<00:00, 55.54it/s]\n"
     ]
    },
    {
     "name": "stdout",
     "output_type": "stream",
     "text": [
      "no progress with 0.2107<0.2389\n",
      "\n"
     ]
    }
   ],
   "source": [
    "best_f1_scores = list()\n",
    "for i,(train_idx, test_idx) in enumerate(split_indices):\n",
    "    train_loss.reset_states()\n",
    "    best_f1 = 0\n",
    "    no_progress = 0\n",
    "    X_train, X_test = X_processed[train_idx], X_processed[test_idx]\n",
    "    y_train, y_test = y.iloc[train_idx].values, y.iloc[test_idx].values\n",
    "    timesteps = utils.timestep(len(X_train))\n",
    "    X_train = utils.sliding_window(X_train,timesteps)\n",
    "    y_train = utils.sliding_window(y_train,timesteps)\n",
    "    timesteps = utils.timestep(len(X_train))\n",
    "    batch_size = timesteps*10\n",
    "    num_batches = (len(X_train) // batch_size)\n",
    "    remainder = len(X_train) % batch_size\n",
    "    for epoch in range(1,21):\n",
    "        pbar = tqdm(total=num_batches + (1 if remainder else 0))\n",
    "        start = 0\n",
    "        for j in range(num_batches + (1 if remainder else 0)):\n",
    "            if j < num_batches:\n",
    "                _X_train = X_train[start:start+batch_size]\n",
    "                _y_train = y_train[start:start+batch_size]\n",
    "                start += batch_size\n",
    "            else:\n",
    "                _X_train = X_train[start:start+remainder]\n",
    "                _y_train = y_train[start:start+remainder]\n",
    "            _X_train = np.reshape(_X_train, (-1, timesteps, _X_train.shape[-1]))\n",
    "            train_step(_X_train, _y_train)\n",
    "            pbar.set_description(f\"Training Loss: {np.mean(train_loss.result().numpy()):.4f}\")\n",
    "            pbar.update(1)\n",
    "        pbar.close()\n",
    "        test_timesteps = utils.timestep(len(X_test))\n",
    "        X_test = np.reshape(X_test, (-1, test_timesteps, X_test.shape[-1]))\n",
    "        logits = model(X_test, training=False)\n",
    "        predictions = tf.argmax(logits, axis=1) + 1\n",
    "        f1,p,r = utils.f1_score(y_test,predictions,threshold=1)\n",
    "        if f1>best_f1:\n",
    "            model.save_weights(\"model_weights.h5\")\n",
    "            best_f1 = f1\n",
    "            no_progress=0\n",
    "        else:\n",
    "            print(\"no progress with {:.4f}<{:.4f}\".format(f1,best_f1))\n",
    "            no_progress+=1\n",
    "        if no_progress>4:\n",
    "            best_f1_scores.append(best_f1)\n",
    "            break\n",
    "        print(\"Epoch: {} -- F-score: {:.4f}\".format(epoch,f1))\n",
    "    print()\n",
    "    \n"
   ]
  },
  {
   "cell_type": "code",
   "execution_count": 28,
   "metadata": {},
   "outputs": [
    {
     "name": "stdout",
     "output_type": "stream",
     "text": [
      "[0.2309169466617325, 0.22836538456540606, 0.22366835377042943, 0.2236683537702226, 0.23894862599539005]\n"
     ]
    }
   ],
   "source": [
    "print(best_f1_scores)"
   ]
  },
  {
   "cell_type": "code",
   "execution_count": null,
   "metadata": {},
   "outputs": [],
   "source": []
  }
 ],
 "metadata": {
  "kernelspec": {
   "display_name": "base",
   "language": "python",
   "name": "python3"
  },
  "language_info": {
   "codemirror_mode": {
    "name": "ipython",
    "version": 3
   },
   "file_extension": ".py",
   "mimetype": "text/x-python",
   "name": "python",
   "nbconvert_exporter": "python",
   "pygments_lexer": "ipython3",
   "version": "3.10.8"
  }
 },
 "nbformat": 4,
 "nbformat_minor": 2
}
